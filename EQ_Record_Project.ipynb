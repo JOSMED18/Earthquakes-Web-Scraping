{
 "cells": [
  {
   "cell_type": "markdown",
   "id": "3141d2d4-0013-45fa-9745-9bdfd7fb23f9",
   "metadata": {
    "tags": []
   },
   "source": [
    "## Earthquakes Web Scraping\n",
    "### Countries Collected\n",
    "\n",
    "Nicaragua: https://ineter.gob.ni/articulos/areas-tecnicas/geofisica/monitoreo-de-sismos-en-tiempo-real.html\n",
    "\n",
    "USA: http://folkworm.ceri.memphis.edu/REQ/html/event_list.html\n",
    "\n",
    "Spain: https://www.ign.es/web/ign/portal/ultimos-terremotos/-/ultimos-terremotos/get10dias?_IGNGFSSismoSismicidadReciente_WAR_IGNGFSSismoSismicidadRecienteportlet_formDate=1706589250669&_IGNGFSSismoSismicidadReciente_WAR_IGNGFSSismoSismicidadRecienteportlet_dias=10\n",
    "\n",
    "FRANCE: https://www.notre-planete.info/terre/risques_naturels/seismes/seismes-France-carte.php"
   ]
  },
  {
   "cell_type": "code",
   "execution_count": 1,
   "id": "4ab4630f-7179-49a2-824b-49501edaa907",
   "metadata": {
    "tags": []
   },
   "outputs": [],
   "source": [
    "#Importing libraries\n",
    "from datetime import date\n",
    "from bs4 import BeautifulSoup\n",
    "import requests\n",
    "import time\n",
    "import datetime\n",
    "import pandas as pd\n",
    "import calendar\n",
    "import pymysql\n",
    "import re\n",
    "\n",
    "headers = {\"User-Agent\": \"Mozilla/5.0 (Windows NT 10.0; Win64; x64) AppleWebKit/537.36 (KHTML, like Gecko) Chrome/120.0.0.0 Safari/537.36 Edg/120.0.0.0\"}\n"
   ]
  },
  {
   "cell_type": "markdown",
   "id": "540c7e7b-2179-4ea4-afeb-962e7ab12b21",
   "metadata": {
    "tags": []
   },
   "source": [
    "### MySQL connection"
   ]
  },
  {
   "cell_type": "code",
   "execution_count": 2,
   "id": "03ff2a97-7158-4a89-ad4f-aba84e98d37d",
   "metadata": {
    "tags": []
   },
   "outputs": [],
   "source": [
    "# Connect to the MySQL database\n",
    "connection = pymysql.connect(\n",
    "    host='127.0.0.1',     # Hostname or IP address of the MySQL server\n",
    "    user='root', # MySQL username\n",
    "    password='',     # MySQL password\n",
    "    database='sismos_registros_nicaragua',     # Name of the MySQL database\n",
    ")"
   ]
  },
  {
   "cell_type": "markdown",
   "id": "01545b8d-d612-4469-a98f-8d3f348dbf46",
   "metadata": {
    "tags": []
   },
   "source": [
    "### Table Creation and Connection"
   ]
  },
  {
   "cell_type": "code",
   "execution_count": 3,
   "id": "1d3cffcf-5331-412c-89ef-114a5a6f4af8",
   "metadata": {
    "tags": []
   },
   "outputs": [],
   "source": [
    "table_name = \"registro_sismos\"\n",
    "create_table_query = f'''\n",
    "CREATE TABLE IF NOT EXISTS {table_name} (\n",
    "    Date DATETIME,\n",
    "    Time TIME,\n",
    "    Latitude DECIMAL(10, 6),\n",
    "    Longitude DECIMAL(10, 6),\n",
    "    Depth DECIMAL(10, 2),\n",
    "    Magnitude DECIMAL(5, 2),\n",
    "    Closest_City VARCHAR(100),\n",
    "    Collected VARCHAR(45)\n",
    ");\n",
    "'''.format(table_name)\n",
    "\n",
    "with connection.cursor() as cursor:\n",
    "    cursor.execute(create_table_query)\n",
    "connection.commit()"
   ]
  },
  {
   "cell_type": "code",
   "execution_count": null,
   "id": "bf27e41f-3df5-4bdd-8656-0db2f854b9d3",
   "metadata": {
    "tags": []
   },
   "outputs": [],
   "source": [
    "## Getting Last Date recorded for US, NI and ES for web scraping\n",
    "sql_ni = 'SELECT * FROM sismos_registros_nicaragua.registro_sismos WHERE Collected = \"Nicaragua\";'\n",
    "sql_us = 'SELECT * FROM sismos_registros_nicaragua.registro_sismos WHERE Collected = \"US\";'\n",
    "sql_es = 'SELECT * FROM sismos_registros_nicaragua.registro_sismos WHERE Collected = \"Spain\";'\n",
    "sql_fr = 'SELECT * FROM sismos_registros_nicaragua.registro_sismos WHERE Collected = \"France\";'\n",
    "\n",
    "last_date_ni = pd.read_sql(sql_ni, connection)['Date'].max()\n",
    "last_date_us = pd.read_sql(sql_us, connection)['Date'].max()\n",
    "last_date_es = pd.read_sql(sql_es, connection)['Date'].max()\n",
    "last_date_fr = pd.read_sql(sql_fr, connection)['Date'].max()"
   ]
  },
  {
   "cell_type": "markdown",
   "id": "cddd9444-1a72-47fe-846f-3afef23a04aa",
   "metadata": {
    "tags": []
   },
   "source": [
    "## Nicaragua Database"
   ]
  },
  {
   "cell_type": "code",
   "execution_count": null,
   "id": "ee6856c2-aec3-454b-bc68-73936cb22a48",
   "metadata": {
    "tags": []
   },
   "outputs": [],
   "source": [
    "## Connect to Data\n",
    "URL = \"https://webserver2.ineter.gob.ni/geofisica/sis/events/sismos.php\"\n",
    "\n",
    "page = requests.get(URL, headers = headers,verify=False)\n",
    "\n",
    "Soup1 = BeautifulSoup(page.content, \"html.parser\")\n",
    "\n",
    "Soup2 = BeautifulSoup(Soup1.prettify(),\"html.parser\")\n",
    "\n",
    "row = []\n",
    "for fila in Soup2.find_all(\"pre\"):\n",
    "    row.append(fila.text)"
   ]
  },
  {
   "cell_type": "code",
   "execution_count": 7,
   "id": "6d159abc-0d5b-493a-bb96-b98f014826e9",
   "metadata": {
    "tags": []
   },
   "outputs": [],
   "source": [
    "## Creating lists for the pandas dataframe\n",
    "\n",
    "date = []\n",
    "time = []\n",
    "latitude = []\n",
    "longitude = []\n",
    "depth = []\n",
    "magnitude = []\n",
    "region = []\n",
    "\n",
    "for data in row:\n",
    "    data = data.split()\n",
    "    date.append(data[0])\n",
    "    time.append(data[1])\n",
    "    latitude.append(data[2])\n",
    "    longitude.append(data[3])\n",
    "    depth.append(data[4])\n",
    "    magnitude.append(data[5])\n",
    "    region.append(\" \".join(data[7:]))\n",
    "    "
   ]
  },
  {
   "cell_type": "code",
   "execution_count": 8,
   "id": "81037961-36b8-4b07-b1da-7baf0c1d6f0e",
   "metadata": {
    "tags": []
   },
   "outputs": [],
   "source": [
    "## Creating the dataframe and adding the country where it was registered\n",
    "eq_record_ni = pd.DataFrame({\"Date\":date,\"Time\":time,\"Latitude\":latitude,\n",
    "                        \"Longitude\":longitude, \"Depth\":depth,\n",
    "                        \"Magnitude\":magnitude, \"Region\":region})\n",
    "\n",
    "eq_record_ni[\"Date\"] = pd.to_datetime(eq_record_ni.Date,format =\"%y/%m/%d\")\n",
    "eq_record_ni[\"Collected\"] = \"Nicaragua\""
   ]
  },
  {
   "cell_type": "code",
   "execution_count": 9,
   "id": "97a0a3a2-d03f-4c0a-8522-6df50466bb43",
   "metadata": {
    "tags": []
   },
   "outputs": [],
   "source": [
    "## Filtering from last date saved in MySQL\n",
    "eq_record_ni = eq_record_ni[eq_record_ni[\"Date\"]>last_date_ni]"
   ]
  },
  {
   "cell_type": "code",
   "execution_count": null,
   "id": "61559894-f83c-4631-9f7b-e98208fb5fd0",
   "metadata": {
    "tags": []
   },
   "outputs": [],
   "source": [
    "eq_record_ni"
   ]
  },
  {
   "cell_type": "markdown",
   "id": "d4ad3251-d512-4c73-88e1-78336bc32b47",
   "metadata": {
    "tags": []
   },
   "source": [
    "## USA Database"
   ]
  },
  {
   "cell_type": "code",
   "execution_count": null,
   "id": "afbad3a7-a5a0-4bac-9fad-05cfe24d2ba9",
   "metadata": {
    "tags": []
   },
   "outputs": [],
   "source": [
    "## Connect to Data\n",
    "URLCentralUSA = \"http://folkworm.ceri.memphis.edu/REQ/html/event_list.html\"\n",
    "\n",
    "page2 = requests.get(URLCentralUSA, headers = headers,verify=False)\n",
    "\n",
    "Soup1_2 = BeautifulSoup(page2.content, \"html.parser\")\n",
    "\n",
    "Soup2_2 = BeautifulSoup(Soup1_2.prettify(),\"html.parser\")\n"
   ]
  },
  {
   "cell_type": "code",
   "execution_count": 12,
   "id": "de33d0c9-5994-46a3-a628-20e274661c45",
   "metadata": {
    "tags": []
   },
   "outputs": [],
   "source": [
    "row = []\n",
    "for fila in Soup2_2.find_all(\"td\"):\n",
    "    row.append(fila.text)"
   ]
  },
  {
   "cell_type": "code",
   "execution_count": 13,
   "id": "8f5fc28a-c6af-474d-a4c5-efef799e6047",
   "metadata": {
    "tags": []
   },
   "outputs": [],
   "source": [
    "# Cleaning the data\n",
    "clean_row = []\n",
    "for i in row:\n",
    "    i = i.strip()\n",
    "    clean_row.append(i)\n",
    "\n",
    "cleaning1 = [x for x in clean_row if len(x) == 10] \n",
    "    \n",
    "for i in clean_row:\n",
    "    if i in cleaning1:\n",
    "        clean_row.remove(i)\n",
    "    else:\n",
    "        continue\n",
    "        \n",
    "titles = clean_row[1:7]\n",
    "data_dirty = clean_row [7:]"
   ]
  },
  {
   "cell_type": "code",
   "execution_count": 14,
   "id": "8b175164-c344-4d3e-a72a-38816a1ed4a8",
   "metadata": {
    "tags": []
   },
   "outputs": [],
   "source": [
    "## Creating lists for the pandas dataframe\n",
    "DateTime_US = []\n",
    "Latitude_US = []\n",
    "Longitude_US = []\n",
    "Depth_US = []\n",
    "Magnitude_US = []\n",
    "Region_US = []\n",
    "\n",
    "n = 0\n",
    "\n",
    "while n < (len(data_dirty)/6 + 1):\n",
    "    Magnitude_US.append(data_dirty[n])\n",
    "    DateTime_US.append(data_dirty[n+1])\n",
    "    Latitude_US.append(data_dirty[n+2])\n",
    "    Longitude_US.append(data_dirty[n+3])\n",
    "    Depth_US.append(data_dirty[n+4])\n",
    "    Region_US.append(data_dirty[n+5])\n",
    "    n+=6"
   ]
  },
  {
   "cell_type": "code",
   "execution_count": 15,
   "id": "17e1fcac-3795-40d0-9577-bd47d5d75a49",
   "metadata": {
    "tags": []
   },
   "outputs": [],
   "source": [
    "## Creating the dataframe and adding the country where it was registered\n",
    "Dict_US = {\"Magnitude\":Magnitude_US, \"Datetime\":DateTime_US, \"Latitude\": Latitude_US,\n",
    "           \"Longitude\":Longitude_US,\"Depth\":Depth_US, \"Region\": Region_US} \n",
    "eq_record_us = pd.DataFrame(Dict_US)"
   ]
  },
  {
   "cell_type": "code",
   "execution_count": 16,
   "id": "a97f1973-b7cf-4177-a1e9-ebc3f5a11e45",
   "metadata": {
    "tags": []
   },
   "outputs": [],
   "source": [
    "eq_record_us[['Day Name','Month','Day','Time','Year']] = eq_record_us['Datetime'].str.split(' ',expand=True)\n",
    "eq_record_us = eq_record_us.drop(['Datetime', 'Day Name'], axis = 1)\n"
   ]
  },
  {
   "cell_type": "code",
   "execution_count": 17,
   "id": "ad91b0d9-349f-40cd-af7e-c0a8a58c4266",
   "metadata": {
    "tags": []
   },
   "outputs": [],
   "source": [
    "months = {month: index for index, month in enumerate(calendar.month_abbr) if month}\n",
    "\n",
    "eq_record_us = eq_record_us.replace({'Month':months})"
   ]
  },
  {
   "cell_type": "code",
   "execution_count": 18,
   "id": "11c1716a-4414-4632-a09f-7b281b9f929d",
   "metadata": {
    "tags": []
   },
   "outputs": [],
   "source": [
    "eq_record_us = eq_record_us.astype({\"Magnitude\":\"float64\", \"Latitude\": \"float64\", \"Longitude\":\"float64\",\n",
    "                                    \"Depth\":\"float64\", \"Region\": \"object\", \"Month\":\"int64\", \"Day\":\"int64\",\n",
    "                                   \"Time\":\"object\", \"Year\":\"int64\"})"
   ]
  },
  {
   "cell_type": "code",
   "execution_count": 19,
   "id": "91e33177-e6e7-4404-9061-5a49797bf3fd",
   "metadata": {
    "tags": []
   },
   "outputs": [],
   "source": [
    "eq_record_us['Date'] = pd.to_datetime(eq_record_us[['Month','Day','Year']])\n",
    "eq_record_us = eq_record_us.drop(['Month','Day','Year'], axis = 1)\n",
    "eq_record_us['Collected'] = \"US\"\n",
    "eq_record_us = eq_record_us[eq_record_ni.columns.to_list()]"
   ]
  },
  {
   "cell_type": "code",
   "execution_count": 20,
   "id": "a8fad600-2f43-4745-a4fe-a894265b03e1",
   "metadata": {},
   "outputs": [],
   "source": [
    "eq_record_us = eq_record_us[eq_record_us[\"Date\"]>last_date_us]"
   ]
  },
  {
   "cell_type": "code",
   "execution_count": null,
   "id": "f7e78257",
   "metadata": {},
   "outputs": [],
   "source": [
    "eq_record_us"
   ]
  },
  {
   "cell_type": "markdown",
   "id": "6efe7a7d-882b-41b7-a8f2-fc32c6c76d6d",
   "metadata": {
    "tags": []
   },
   "source": [
    "## Spain Database"
   ]
  },
  {
   "cell_type": "code",
   "execution_count": 22,
   "id": "57061805-f56f-4a4a-af40-fcdcde05f002",
   "metadata": {
    "tags": []
   },
   "outputs": [
    {
     "name": "stderr",
     "output_type": "stream",
     "text": [
      "c:\\ProgramData\\anaconda3\\Lib\\site-packages\\urllib3\\connectionpool.py:1056: InsecureRequestWarning: Unverified HTTPS request is being made to host 'www.ign.es'. Adding certificate verification is strongly advised. See: https://urllib3.readthedocs.io/en/1.26.x/advanced-usage.html#ssl-warnings\n",
      "  warnings.warn(\n"
     ]
    }
   ],
   "source": [
    "## Connect to Data\n",
    "URLSpain = \"https://www.ign.es/web/ign/portal/ultimos-terremotos\"\n",
    "\n",
    "page3 = requests.get(URLSpain, headers = headers,verify=False)\n",
    "\n",
    "Soup1_3 = BeautifulSoup(page3.content, \"html.parser\")\n",
    "\n",
    "Soup2_3 = BeautifulSoup(Soup1_3.prettify(),\"html.parser\")"
   ]
  },
  {
   "cell_type": "code",
   "execution_count": 23,
   "id": "eb395926-88ed-4c3a-95f0-cdbe9dcdef31",
   "metadata": {
    "tags": []
   },
   "outputs": [],
   "source": [
    "row = []\n",
    "for fila in Soup2_3.find_all(\"td\"):\n",
    "    row.append(fila.text)"
   ]
  },
  {
   "cell_type": "code",
   "execution_count": 24,
   "id": "be4c342a-27ae-40fa-b90f-eb0bab599e2b",
   "metadata": {
    "tags": []
   },
   "outputs": [],
   "source": [
    "clean_row = []\n",
    "for i in row:\n",
    "    i = i.strip()\n",
    "    clean_row.append(i)"
   ]
  },
  {
   "cell_type": "code",
   "execution_count": 25,
   "id": "581b4e8e-1c35-4ffb-85e0-566bff0bc2b1",
   "metadata": {
    "tags": []
   },
   "outputs": [],
   "source": [
    "Date_ES = []\n",
    "Time_ES = []\n",
    "Latitude_ES = []\n",
    "Longitude_ES = []\n",
    "Depth_ES = []\n",
    "Magnitude_ES = []\n",
    "Region_ES = []\n",
    "\n",
    "n = 1\n",
    "\n",
    "while n < len(clean_row):\n",
    "    Date_ES.append(clean_row[n])\n",
    "    Time_ES.append(clean_row[n+1])\n",
    "    Latitude_ES.append(clean_row[n+3])\n",
    "    Longitude_ES.append(clean_row[n+4])\n",
    "    Depth_ES.append(clean_row[n+5])\n",
    "    Magnitude_ES.append(clean_row[n+6])\n",
    "    Region_ES.append(clean_row[n+9])\n",
    "    n+=12"
   ]
  },
  {
   "cell_type": "code",
   "execution_count": 26,
   "id": "9c36643e-008a-4b53-bf04-b3c606f8008f",
   "metadata": {
    "tags": []
   },
   "outputs": [],
   "source": [
    "Dict_ES = {\"Magnitude\":Magnitude_ES, \"Date\":Date_ES, \"Time\": Time_ES, \"Latitude\": Latitude_ES,\n",
    "           \"Longitude\":Longitude_ES,\"Depth\":Depth_ES, \"Region\": Region_ES} \n",
    "eq_record_es = pd.DataFrame(Dict_ES)"
   ]
  },
  {
   "cell_type": "code",
   "execution_count": 27,
   "id": "036c84f2-c41f-4193-af35-a0f0aeb03d9c",
   "metadata": {
    "tags": []
   },
   "outputs": [],
   "source": [
    "eq_record_es[\"Collected\"] = \"Spain\"\n",
    "eq_record_es = eq_record_es[eq_record_ni.columns.to_list()]\n",
    "eq_record_es[\"Date\"] = pd.to_datetime(eq_record_es[\"Date\"],dayfirst = True)"
   ]
  },
  {
   "cell_type": "code",
   "execution_count": 28,
   "id": "a163b3db-4787-413a-90bd-497857b7f969",
   "metadata": {
    "tags": []
   },
   "outputs": [],
   "source": [
    "eq_record_es = eq_record_es[eq_record_es[\"Date\"]>last_date_es]"
   ]
  },
  {
   "cell_type": "code",
   "execution_count": 29,
   "id": "c1f1acde-5f6f-45dc-8c26-425e2fad0c8a",
   "metadata": {
    "tags": []
   },
   "outputs": [
    {
     "data": {
      "text/html": [
       "<div>\n",
       "<style scoped>\n",
       "    .dataframe tbody tr th:only-of-type {\n",
       "        vertical-align: middle;\n",
       "    }\n",
       "\n",
       "    .dataframe tbody tr th {\n",
       "        vertical-align: top;\n",
       "    }\n",
       "\n",
       "    .dataframe thead th {\n",
       "        text-align: right;\n",
       "    }\n",
       "</style>\n",
       "<table border=\"1\" class=\"dataframe\">\n",
       "  <thead>\n",
       "    <tr style=\"text-align: right;\">\n",
       "      <th></th>\n",
       "      <th>Date</th>\n",
       "      <th>Time</th>\n",
       "      <th>Latitude</th>\n",
       "      <th>Longitude</th>\n",
       "      <th>Depth</th>\n",
       "      <th>Magnitude</th>\n",
       "      <th>Region</th>\n",
       "      <th>Collected</th>\n",
       "    </tr>\n",
       "  </thead>\n",
       "  <tbody>\n",
       "    <tr>\n",
       "      <th>0</th>\n",
       "      <td>2024-04-06</td>\n",
       "      <td>19:16:36</td>\n",
       "      <td>38.2834</td>\n",
       "      <td>-0.8485</td>\n",
       "      <td>7.0</td>\n",
       "      <td>2.3</td>\n",
       "      <td>S EL FONDÓ DE LES NEUS/HONDÓN</td>\n",
       "      <td>Spain</td>\n",
       "    </tr>\n",
       "    <tr>\n",
       "      <th>1</th>\n",
       "      <td>2024-04-06</td>\n",
       "      <td>19:02:14</td>\n",
       "      <td>36.6088</td>\n",
       "      <td>-2.5524</td>\n",
       "      <td>13.0</td>\n",
       "      <td>1.8</td>\n",
       "      <td>ALBORÁN NORTE</td>\n",
       "      <td>Spain</td>\n",
       "    </tr>\n",
       "    <tr>\n",
       "      <th>2</th>\n",
       "      <td>2024-04-06</td>\n",
       "      <td>12:44:31</td>\n",
       "      <td>41.0459</td>\n",
       "      <td>-7.0684</td>\n",
       "      <td>0.0</td>\n",
       "      <td>1.8</td>\n",
       "      <td>SE VILA NOVA DE FOZ COA.POR</td>\n",
       "      <td>Spain</td>\n",
       "    </tr>\n",
       "    <tr>\n",
       "      <th>3</th>\n",
       "      <td>2024-04-06</td>\n",
       "      <td>07:57:49</td>\n",
       "      <td>37.1708</td>\n",
       "      <td>-3.3509</td>\n",
       "      <td>10.0</td>\n",
       "      <td>1.5</td>\n",
       "      <td>E GÜÉJAR SIERRA.GR</td>\n",
       "      <td>Spain</td>\n",
       "    </tr>\n",
       "    <tr>\n",
       "      <th>4</th>\n",
       "      <td>2024-04-06</td>\n",
       "      <td>01:02:28</td>\n",
       "      <td>28.0787</td>\n",
       "      <td>-16.1480</td>\n",
       "      <td>5.0</td>\n",
       "      <td>1.7</td>\n",
       "      <td>ATLÁNTICO-CANARIAS</td>\n",
       "      <td>Spain</td>\n",
       "    </tr>\n",
       "    <tr>\n",
       "      <th>...</th>\n",
       "      <td>...</td>\n",
       "      <td>...</td>\n",
       "      <td>...</td>\n",
       "      <td>...</td>\n",
       "      <td>...</td>\n",
       "      <td>...</td>\n",
       "      <td>...</td>\n",
       "      <td>...</td>\n",
       "    </tr>\n",
       "    <tr>\n",
       "      <th>57</th>\n",
       "      <td>2024-04-02</td>\n",
       "      <td>03:24:44</td>\n",
       "      <td>36.6334</td>\n",
       "      <td>-3.0300</td>\n",
       "      <td>16.0</td>\n",
       "      <td>2.0</td>\n",
       "      <td>ALBORÁN NORTE</td>\n",
       "      <td>Spain</td>\n",
       "    </tr>\n",
       "    <tr>\n",
       "      <th>58</th>\n",
       "      <td>2024-04-02</td>\n",
       "      <td>03:16:12</td>\n",
       "      <td>36.7875</td>\n",
       "      <td>-10.6935</td>\n",
       "      <td>7.0</td>\n",
       "      <td>2.7</td>\n",
       "      <td>SW CABO DE SAN VICENTE</td>\n",
       "      <td>Spain</td>\n",
       "    </tr>\n",
       "    <tr>\n",
       "      <th>59</th>\n",
       "      <td>2024-04-02</td>\n",
       "      <td>01:23:33</td>\n",
       "      <td>28.0057</td>\n",
       "      <td>-16.2008</td>\n",
       "      <td>5.0</td>\n",
       "      <td>1.8</td>\n",
       "      <td>ATLÁNTICO-CANARIAS</td>\n",
       "      <td>Spain</td>\n",
       "    </tr>\n",
       "    <tr>\n",
       "      <th>60</th>\n",
       "      <td>2024-04-02</td>\n",
       "      <td>00:35:40</td>\n",
       "      <td>35.4054</td>\n",
       "      <td>-3.7275</td>\n",
       "      <td>3.0</td>\n",
       "      <td>2.3</td>\n",
       "      <td>ALBORÁN SUR</td>\n",
       "      <td>Spain</td>\n",
       "    </tr>\n",
       "    <tr>\n",
       "      <th>61</th>\n",
       "      <td>2024-04-02</td>\n",
       "      <td>00:18:40</td>\n",
       "      <td>37.1755</td>\n",
       "      <td>-8.7317</td>\n",
       "      <td>21.0</td>\n",
       "      <td>2.1</td>\n",
       "      <td>NW LAGOS.POR</td>\n",
       "      <td>Spain</td>\n",
       "    </tr>\n",
       "  </tbody>\n",
       "</table>\n",
       "<p>62 rows × 8 columns</p>\n",
       "</div>"
      ],
      "text/plain": [
       "         Date      Time Latitude Longitude Depth Magnitude  \\\n",
       "0  2024-04-06  19:16:36  38.2834   -0.8485   7.0       2.3   \n",
       "1  2024-04-06  19:02:14  36.6088   -2.5524  13.0       1.8   \n",
       "2  2024-04-06  12:44:31  41.0459   -7.0684   0.0       1.8   \n",
       "3  2024-04-06  07:57:49  37.1708   -3.3509  10.0       1.5   \n",
       "4  2024-04-06  01:02:28  28.0787  -16.1480   5.0       1.7   \n",
       "..        ...       ...      ...       ...   ...       ...   \n",
       "57 2024-04-02  03:24:44  36.6334   -3.0300  16.0       2.0   \n",
       "58 2024-04-02  03:16:12  36.7875  -10.6935   7.0       2.7   \n",
       "59 2024-04-02  01:23:33  28.0057  -16.2008   5.0       1.8   \n",
       "60 2024-04-02  00:35:40  35.4054   -3.7275   3.0       2.3   \n",
       "61 2024-04-02  00:18:40  37.1755   -8.7317  21.0       2.1   \n",
       "\n",
       "                           Region Collected  \n",
       "0   S EL FONDÓ DE LES NEUS/HONDÓN     Spain  \n",
       "1                   ALBORÁN NORTE     Spain  \n",
       "2     SE VILA NOVA DE FOZ COA.POR     Spain  \n",
       "3              E GÜÉJAR SIERRA.GR     Spain  \n",
       "4              ATLÁNTICO-CANARIAS     Spain  \n",
       "..                            ...       ...  \n",
       "57                  ALBORÁN NORTE     Spain  \n",
       "58         SW CABO DE SAN VICENTE     Spain  \n",
       "59             ATLÁNTICO-CANARIAS     Spain  \n",
       "60                    ALBORÁN SUR     Spain  \n",
       "61                   NW LAGOS.POR     Spain  \n",
       "\n",
       "[62 rows x 8 columns]"
      ]
     },
     "execution_count": 29,
     "metadata": {},
     "output_type": "execute_result"
    }
   ],
   "source": [
    "eq_record_es"
   ]
  },
  {
   "cell_type": "markdown",
   "id": "955cc393-398f-4fcc-92f2-dabf1ab63b97",
   "metadata": {
    "jp-MarkdownHeadingCollapsed": true,
    "tags": []
   },
   "source": [
    "## France Database"
   ]
  },
  {
   "cell_type": "code",
   "execution_count": null,
   "id": "ef906f4c-160c-476d-88c7-6009dbdff07f",
   "metadata": {
    "tags": []
   },
   "outputs": [],
   "source": [
    "## Connect to Data\n",
    "URLFrance = \"https://www.notre-planete.info/terre/risques_naturels/seismes/seismes-France-carte.php\"\n",
    "page4 = requests.get(URLFrance, headers = headers,verify=False)\n",
    "\n",
    "Soup1_4 = BeautifulSoup(page4.content, \"html.parser\")\n",
    "\n",
    "Soup2_4 = BeautifulSoup(Soup1_4.prettify(),\"html.parser\")"
   ]
  },
  {
   "cell_type": "code",
   "execution_count": 31,
   "id": "402c22bb-5315-4f8c-8d0a-e67cb6a77f21",
   "metadata": {
    "tags": []
   },
   "outputs": [],
   "source": [
    "row = []\n",
    "for fila in Soup2_4.find_all(\"td\"):\n",
    "    row.append(fila.text)"
   ]
  },
  {
   "cell_type": "code",
   "execution_count": 32,
   "id": "cbb43dcd-d1b6-4845-a47b-6df2cc822c8e",
   "metadata": {
    "tags": []
   },
   "outputs": [],
   "source": [
    "clean_row = []\n",
    "for i in row:\n",
    "    i = i.strip()\n",
    "    clean_row.append(i)"
   ]
  },
  {
   "cell_type": "code",
   "execution_count": 33,
   "id": "44bcf8c5-4c14-4b2a-a138-f349e4ce7437",
   "metadata": {
    "tags": []
   },
   "outputs": [],
   "source": [
    "Region_FR = []\n",
    "for i in clean_row:\n",
    "    try:\n",
    "        Region_FR.append(i.split(\"proche de \")[1])\n",
    "    except:\n",
    "        continue"
   ]
  },
  {
   "cell_type": "code",
   "execution_count": 34,
   "id": "631e1a1a-f84e-426f-899f-6c87e8fd07c0",
   "metadata": {
    "tags": []
   },
   "outputs": [],
   "source": [
    "urls = re.findall(r'(https?://[^\\s]+)', str(Soup2_4))"
   ]
  },
  {
   "cell_type": "code",
   "execution_count": 35,
   "id": "143196d7-7c1d-46f4-832f-de49529a117a",
   "metadata": {
    "tags": []
   },
   "outputs": [],
   "source": [
    "cleaned_urls = []\n",
    "for i in urls:\n",
    "    if i.startswith('https://renass.unistra.fr/fr/evenements/fr'):\n",
    "        cleaned_urls.append(i[:len(i)-1])\n",
    "    else:\n",
    "        continue"
   ]
  },
  {
   "cell_type": "code",
   "execution_count": 36,
   "id": "36dd5b12-6f5a-408d-9ff7-5152952f5c3d",
   "metadata": {
    "tags": []
   },
   "outputs": [],
   "source": [
    "## This is function extracts the data from every link in the main page from the cell above\n",
    "\n",
    "def Record_Extractor(url):\n",
    "    page= requests.get(url, headers = headers,verify=False)\n",
    "\n",
    "    Soup= BeautifulSoup(page.content, \"html.parser\")\n",
    "\n",
    "    Soup2= BeautifulSoup(Soup.prettify(),\"html.parser\")\n",
    "\n",
    "    row = []\n",
    "    for fila in Soup2.find_all(\"td\"):\n",
    "        row.append(fila.text)\n",
    "\n",
    "    clean_row = []\n",
    "    for i in row:\n",
    "        i = i.strip()\n",
    "        clean_row.append(i)\n",
    "\n",
    "    Magnitude = repr(clean_row[3]).split(\"\\\\\")[0][1:]\n",
    "    Datetime = clean_row[7]\n",
    "    Latitude = repr(clean_row[9]).split(\"\\\\\")[0][1:]\n",
    "    Longitude = repr(clean_row[11]).split(\"\\\\\")[0][1:]\n",
    "    Depth = repr(clean_row[13]).split(\"\\\\\")[0][1:]\n",
    "    \n",
    "    data = [Datetime, Latitude, Longitude, Depth, Magnitude]\n",
    "\n",
    "    return data"
   ]
  },
  {
   "cell_type": "code",
   "execution_count": null,
   "id": "96b3d61b-100c-4cba-9748-b63dbc3c6449",
   "metadata": {
    "tags": []
   },
   "outputs": [],
   "source": [
    "## Connect to Data\n",
    "\n",
    "Datetime_FR = []\n",
    "Latitude_FR = []\n",
    "Longitude_FR = []\n",
    "Depth_FR = []\n",
    "Magnitude_FR = []\n",
    "\n",
    "for i in cleaned_urls:\n",
    "    data = Record_Extractor(i)\n",
    "    Datetime_FR.append(data[0])\n",
    "    Latitude_FR.append(data[1])\n",
    "    Longitude_FR.append(data[2])\n",
    "    Depth_FR.append(data[3])\n",
    "    Magnitude_FR.append(data[4])"
   ]
  },
  {
   "cell_type": "code",
   "execution_count": 39,
   "id": "f13fe967-22b4-4ad2-9ec7-3839dfacf087",
   "metadata": {
    "tags": []
   },
   "outputs": [],
   "source": [
    "## Creating the dataframe\n",
    "\n",
    "Dict_FR = {\"Magnitude\":Magnitude_FR, \"Date\":Datetime_FR, \"Latitude\": Latitude_FR,\n",
    "           \"Longitude\":Longitude_FR,\"Depth\":Depth_FR, \"Region\": Region_FR} \n",
    "eq_record_FR = pd.DataFrame(Dict_FR)"
   ]
  },
  {
   "cell_type": "code",
   "execution_count": 40,
   "id": "183cfae1-395b-44d9-a637-fe6768a581d2",
   "metadata": {
    "tags": []
   },
   "outputs": [],
   "source": [
    "eq_record_FR[['Date', 'Time']] = eq_record_FR['Date'].str.split(' ', expand=True)"
   ]
  },
  {
   "cell_type": "code",
   "execution_count": 41,
   "id": "d6560796-8b89-42a2-ba41-1ee40fa70f79",
   "metadata": {
    "tags": []
   },
   "outputs": [],
   "source": [
    "eq_record_FR['Date'] = pd.to_datetime(eq_record_FR['Date'])\n",
    "eq_record_FR['Collected'] = 'France'"
   ]
  },
  {
   "cell_type": "code",
   "execution_count": null,
   "id": "e2659789-5163-4972-994a-7f0ac80a7798",
   "metadata": {
    "tags": []
   },
   "outputs": [],
   "source": [
    "eq_record_FR"
   ]
  },
  {
   "cell_type": "markdown",
   "id": "4d7158a4-9446-4fd4-a8ed-d1d25f0dc3cb",
   "metadata": {
    "tags": []
   },
   "source": [
    "## Union and load process to SQL"
   ]
  },
  {
   "cell_type": "code",
   "execution_count": 43,
   "id": "b9bc34e6-c97b-49f6-a937-d99de607a714",
   "metadata": {
    "tags": []
   },
   "outputs": [],
   "source": [
    "eq_global = pd.concat([eq_record_ni,eq_record_us,eq_record_es,eq_record_FR]).reset_index(drop=True)"
   ]
  },
  {
   "cell_type": "code",
   "execution_count": null,
   "id": "ff572b02-d7ab-43f9-96d8-16fc9ebd600d",
   "metadata": {
    "tags": []
   },
   "outputs": [],
   "source": [
    "eq_global"
   ]
  },
  {
   "cell_type": "code",
   "execution_count": 45,
   "id": "3574467b-9715-403c-bd5b-903adfc53903",
   "metadata": {
    "tags": []
   },
   "outputs": [],
   "source": [
    "df = eq_global\n",
    "df_columns = list(df)\n",
    "columns_str = ', '.join(df_columns)\n",
    "values_placeholder = ', '.join(['%s'] * len(df_columns))\n",
    "\n",
    "with connection.cursor() as cursor:\n",
    "    insert_query = '''\n",
    "        INSERT INTO {} ({}) VALUES ({})\n",
    "    '''.format(table_name, columns_str, values_placeholder)\n",
    "    cursor.executemany(insert_query, df.values.tolist())\n",
    "connection.commit()\n",
    "\n",
    "# Close the database connection\n",
    "connection.close()"
   ]
  }
 ],
 "metadata": {
  "kernelspec": {
   "display_name": "Python 3 (ipykernel)",
   "language": "python",
   "name": "python3"
  },
  "language_info": {
   "codemirror_mode": {
    "name": "ipython",
    "version": 3
   },
   "file_extension": ".py",
   "mimetype": "text/x-python",
   "name": "python",
   "nbconvert_exporter": "python",
   "pygments_lexer": "ipython3",
   "version": "3.11.3"
  }
 },
 "nbformat": 4,
 "nbformat_minor": 5
}
